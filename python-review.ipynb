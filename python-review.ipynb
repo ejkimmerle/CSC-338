{
 "cells": [
  {
   "cell_type": "markdown",
   "id": "9778849a",
   "metadata": {},
   "source": [
    "CSC/MAT-338: Machine Learning\n",
    "Profs. McKinney and Yoon\n",
    "Fall 2025\n",
    "\n",
    "Assignment 00: Python Review\n",
    "\n",
    "This assignment will serve as a review of fundamentals of Python and a quick introduction to the use of Jupyter notebooks."
   ]
  },
  {
   "cell_type": "code",
   "execution_count": 11,
   "id": "fda2b5c7",
   "metadata": {},
   "outputs": [],
   "source": [
    "from math import sqrt, floor # This is needed to use sqrt().  It's good practice to put library imports at the top."
   ]
  },
  {
   "cell_type": "markdown",
   "id": "f6435a7d",
   "metadata": {},
   "source": [
    "TASK 1: Variables and IO\n",
    "\n",
    "In this task, define:\n",
    "- A integer variable called foo, with your choice of value\n",
    "- A floating point variable called bar, with your choice of value\n",
    "- A string variable called myname, containing your name\n",
    "\n",
    "Using the print() function, print the names, values, and types of each of the variables.  You can use either f-strings or string concatenation for the printing.\n",
    "\n",
    "Sample output:\n",
    "\n",
    "The value of foo is 3 and its type is <class 'int'>\n",
    "\n",
    "The value of bar is 3.14 and its type is <class 'float'>\n",
    "\n",
    "The value of myname is Colin and its type is <class 'str'>"
   ]
  },
  {
   "cell_type": "code",
   "execution_count": 4,
   "id": "3c50eb62",
   "metadata": {},
   "outputs": [
    {
     "name": "stdout",
     "output_type": "stream",
     "text": [
      "The value of foo is 7 and its type is <class 'int'>\n",
      "The value of bar is 1.5 and its type is <class 'float'>\n",
      "The value of myname is Ethan and its type is <class 'str'>\n"
     ]
    }
   ],
   "source": [
    "# Code goes here\n",
    "foo = 7\n",
    "bar = 1.5\n",
    "myname = \"Ethan\"\n",
    "\n",
    "print(f\"The value of foo is {foo} and its type is {type(foo)}\")\n",
    "print(f\"The value of bar is {bar} and its type is {type(bar)}\")\n",
    "print(f\"The value of myname is {myname} and its type is {type(myname)}\")"
   ]
  },
  {
   "cell_type": "markdown",
   "id": "5a03c5ee",
   "metadata": {},
   "source": [
    "TASK 2: Control Structures\n",
    "\n",
    "Jupyter notebooks are a different way to structure a Python project.  Instead of the entire file running, notebooks allow you to run specific cells.  You can go back and re-run any cell in any order, but need to be careful to ensure variables have been defined before being used.  For example, if this cell had print(foo), but you had not already run the code cell above that defined foo, an error would occur.\n",
    "\n",
    "For this task:\n",
    "- Use a conditional to check whether the value of foo is smaller than the value of bar.  If foo is smaller than bar, print a message to this effect.  Otherwise, print a different message.\n",
    "- Use a loop to print the numbers 1 through 10, along with their squares.\n",
    "- Use another loop to print the numbers 1 through 10, along with their squares, except you should skip 7 and its square.  (Hint: use the continue instruction.  Look up what the difference is between continue and break.)"
   ]
  },
  {
   "cell_type": "code",
   "execution_count": 30,
   "id": "12ed19f2",
   "metadata": {},
   "outputs": [
    {
     "name": "stdout",
     "output_type": "stream",
     "text": [
      "bar is smaller than foo\n",
      "\n",
      " \n",
      " \n",
      "\n",
      "i = 1, the square root of i = 1.0\n",
      "i = 2, the square root of i = 1.4142135623730951\n",
      "i = 3, the square root of i = 1.7320508075688772\n",
      "i = 4, the square root of i = 2.0\n",
      "i = 5, the square root of i = 2.23606797749979\n",
      "i = 6, the square root of i = 2.449489742783178\n",
      "i = 7, the square root of i = 2.6457513110645907\n",
      "i = 8, the square root of i = 2.8284271247461903\n",
      "i = 9, the square root of i = 3.0\n",
      "i = 10, the square root of i = 3.1622776601683795\n",
      "\n",
      " \n",
      " \n",
      "\n",
      "i = 1, the square root of i = 1.0\n",
      "i = 2, the square root of i = 1.4142135623730951\n",
      "i = 3, the square root of i = 1.7320508075688772\n",
      "i = 4, the square root of i = 2.0\n",
      "i = 5, the square root of i = 2.23606797749979\n",
      "i = 6, the square root of i = 2.449489742783178\n",
      "i = 8, the square root of i = 2.8284271247461903\n",
      "i = 9, the square root of i = 3.0\n",
      "i = 10, the square root of i = 3.1622776601683795\n"
     ]
    }
   ],
   "source": [
    "# Code goes here\n",
    "if foo < bar:\n",
    "    print(\"foo is smaller than bar\")\n",
    "else:\n",
    "    print(\"bar is smaller than foo\")\n",
    "\n",
    "\n",
    "print(\"\\n \\n \\n\")\n",
    "\n",
    "for i in range(1,11):\n",
    "    print(f\"i = {i}, the square root of i = {sqrt(i)}\")\n",
    "\n",
    "print(\"\\n \\n \\n\")\n",
    "\n",
    "for i in range(1,11):\n",
    "    if i == 7:\n",
    "        continue\n",
    "    else:\n",
    "        print(f\"i = {i}, the square root of i = {sqrt(i)}\")"
   ]
  },
  {
   "cell_type": "markdown",
   "id": "943562eb",
   "metadata": {},
   "source": [
    "TASK 3: Functions\n",
    "\n",
    "Write a function that accepts an integer.  You may assume that the function will only ever get passed an integer 2 or larger, and so can ignore type checking.  The function should, using a loop, determine if the integer given is prime.  If so, it should return True.  Otherwise, it should return False.  (Hint: you can use the % operator to check the remainder upon division by various numbers.  For primes, you need only check integers from 2 to the floor of the square root of the number.).  Demonstrate that your function works correctly by passing it a few prime numbers and a few composite (non-prime) numbers.\n",
    "\n",
    "Sample output: \n",
    "\n",
    "Is the number 3 prime?: True"
   ]
  },
  {
   "cell_type": "code",
   "execution_count": 31,
   "id": "903c54f5",
   "metadata": {},
   "outputs": [
    {
     "name": "stdout",
     "output_type": "stream",
     "text": [
      "Is the number 903 prime?: False\n",
      "Is the number 55 prime?: False\n",
      "Is the number 17 prime?: True\n",
      "Is the number 61 prime?: True\n"
     ]
    }
   ],
   "source": [
    "def isPrime(num: int) -> bool: # Notice how here I've specified that the input should be an int and the return value should be a bool\n",
    "    for i in range(2, floor(sqrt(num)) + 1):\n",
    "        if num % i == 0:\n",
    "            return False\n",
    "        else:\n",
    "            continue\n",
    "    return True\n",
    "\n",
    "print(f\"Is the number 903 prime?: {isPrime(903)}\")\n",
    "print(f\"Is the number 55 prime?: {isPrime(55)}\")\n",
    "print(f\"Is the number 17 prime?: {isPrime(17)}\")\n",
    "print(f\"Is the number 61 prime?: {isPrime(61)}\")"
   ]
  },
  {
   "cell_type": "markdown",
   "id": "9b981b0f",
   "metadata": {},
   "source": [
    "TASK 4: Object-oriented Programming"
   ]
  },
  {
   "cell_type": "markdown",
   "id": "4143d132",
   "metadata": {},
   "source": [
    "Define two objects, called Vertex and Triangle.  A vertex will be a pair of coordinates, for its x and y coordinates.  A triangle will be an object having three Vertex objects within it.  The Triangle class should also have a property called Area, and a method to compute and return the area.  To compute the area of a triangle given only its three vertices, you will need to write a Distance function that returns the distance between two vertices, then use Heron's formula: https://en.wikipedia.org/wiki/Heron%27s_formula"
   ]
  },
  {
   "cell_type": "code",
   "execution_count": null,
   "id": "af918624",
   "metadata": {},
   "outputs": [],
   "source": [
    "class Vertex:\n",
    "    def __init__(self, xcoord, ycoord):\n",
    "        self.xcoord = xcoord\n",
    "        self.ycoord = ycoord\n",
    "        \n",
    "\n",
    "def Distance(v1: Vertex, v2: Vertex):\n",
    "    return sqrt((v2.xcoord - v1.xcoord) ** 2 + (v2.ycoord - v1.ycoord) ** 2) \n",
    "\n",
    "\n",
    "class Triangle:\n",
    "    def __init__(self, vertex1, vertex2, vertex3):\n",
    "        self.vertex1 = vertex1\n",
    "        self.vertex2 = vertex2\n",
    "        self.vertex3 = vertex3\n",
    "\n",
    "    def area(self):\n",
    "        a = Distance(self.vertex1, self.vertex2)\n",
    "        b = Distance(self.vertex2, self.vertex3)\n",
    "        c = Distance(self.vertex1, self.vertex3)\n",
    "        s = (a + b + c) / 2\n",
    "        return(sqrt(s * (s-a) * (s-b) * (s-c)))"
   ]
  },
  {
   "cell_type": "markdown",
   "id": "e9e80f7f",
   "metadata": {},
   "source": [
    "Now that you've defined functions and classes, you can test them by creating specific instances of them below.  Create three vertices, a triangle using them, and then print the area of the resulting triangle."
   ]
  },
  {
   "cell_type": "code",
   "execution_count": 29,
   "id": "a741e0a9",
   "metadata": {},
   "outputs": [
    {
     "name": "stdout",
     "output_type": "stream",
     "text": [
      "12.000000000000004\n",
      "294.0000000000002\n"
     ]
    }
   ],
   "source": [
    "# Code goes here\n",
    "v1 = Vertex(1, 1)\n",
    "v2 = Vertex(1, 7)\n",
    "v3 = Vertex(5, 7)\n",
    "\n",
    "triangle1 = Triangle(v1, v2, v3)\n",
    "print(triangle1.area())\n",
    "\n",
    "v4 = Vertex(0, 1)\n",
    "v5 = Vertex(11, 7)\n",
    "v6 = Vertex(45, 79)\n",
    "\n",
    "triangle2 = Triangle(v4, v5, v6)\n",
    "print(triangle2.area())"
   ]
  },
  {
   "cell_type": "code",
   "execution_count": null,
   "id": "4c648945",
   "metadata": {},
   "outputs": [],
   "source": []
  }
 ],
 "metadata": {
  "kernelspec": {
   "display_name": "base",
   "language": "python",
   "name": "python3"
  },
  "language_info": {
   "codemirror_mode": {
    "name": "ipython",
    "version": 3
   },
   "file_extension": ".py",
   "mimetype": "text/x-python",
   "name": "python",
   "nbconvert_exporter": "python",
   "pygments_lexer": "ipython3",
   "version": "3.12.7"
  }
 },
 "nbformat": 4,
 "nbformat_minor": 5
}
